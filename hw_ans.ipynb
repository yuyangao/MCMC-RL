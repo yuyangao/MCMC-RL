{
 "cells": [
  {
   "attachments": {},
   "cell_type": "markdown",
   "metadata": {},
   "source": [
    "# 作业"
   ]
  },
  {
   "attachments": {},
   "cell_type": "markdown",
   "metadata": {},
   "source": [
    "本次作业主要涉及强化学习中的dynamic programming和Q-learning"
   ]
  },
  {
   "cell_type": "code",
   "execution_count": null,
   "metadata": {},
   "outputs": [],
   "source": [
    "import numpy as np \n",
    "from scipy.special import softmax \n",
    "from scipy.stats import bernoulli, norm, uniform\n",
    "import time \n",
    "from scipy.optimize import minimize\n",
    "from ddm import ddmpdf, pdf # ddm probility density function\n",
    "\n",
    "from IPython.display import clear_output\n",
    "%matplotlib inline\n",
    "%config InlineBackend.figure_format='retina'\n",
    "\n",
    "import matplotlib.pyplot as plt \n",
    "import seaborn as sns \n",
    "\n",
    "import sys \n",
    "sys.path.append(\"..\") \n",
    "from utils.env import frozen_lake\n",
    "from utils.viz import viz \n",
    "viz.get_style()"
   ]
  },
  {
   "cell_type": "code",
   "execution_count": null,
   "metadata": {},
   "outputs": [],
   "source": [
    "# load  data\n",
    "data = np.loadtxt('exampledata.txt')"
   ]
  },
  {
   "attachments": {},
   "cell_type": "markdown",
   "metadata": {},
   "source": [
    "###\n",
    "\n",
    "**Q1.1: 请写出ddm的负对数似然函数`negloglikeli`(negative log-likelihood function)**\n"
   ]
  },
  {
   "cell_type": "code",
   "execution_count": null,
   "metadata": {},
   "outputs": [],
   "source": [
    "# define a negative log-likelihood objective functions\n",
    "def negloglikeli(params, data):\n",
    "    '''\n",
    "    <params>:(4,) array, drift coefficient, decision boundary, initial bias, non-decision time\n",
    "    '''\n",
    "    k = params[0] # drift coefficient\n",
    "    B = params[1] # decision boundary\n",
    "    a = params[2] # initial bias (0, 1)\n",
    "    ndt = params[3] # non-decision time\n",
    "    \n",
    "    nTrial = data.shape[0] # how many trials\n",
    "    pp = np.empty(nTrial)\n",
    "    for i in range(nTrial): # loop trial\n",
    "        pp[i] = ddmpdf(k, a, B, ndt, coh=data[i, 0], rt=data[i, 1], correct=data[i, 2])\n",
    "\n",
    "    pp=0.999*pp + np.finfo(np.float32).eps # to avoid p=0\n",
    "    return -np.log(pp).sum() # take log, sum，add negative"
   ]
  },
  {
   "attachments": {},
   "cell_type": "markdown",
   "metadata": {},
   "source": [
    "###\n",
    "\n",
    "**Q1.2: 利用最大似然估计(maximum likelihood estimation)的方法求解ddm模型参数k,b.a,ndt**\n",
    "\n",
    "参数k,b.a,ndt的bounds分别为((0, 20), (0, 5), (0, 1), (0, 1))\n"
   ]
  },
  {
   "cell_type": "code",
   "execution_count": null,
   "metadata": {},
   "outputs": [],
   "source": [
    "res = minimize(fun=negloglikeli, x0=(1.6, 2.3, 0.5, 0.01), args=(data),bounds=((0, 20), (0, 5), (0, 1), (0, 1)))\n",
    "\n",
    "print('\\nfitted drift coefficient is ', res.x[0])\n",
    "print('fitted decision boundary is ', res.x[1])\n",
    "print('fitted initial bias is ', res.x[2])\n",
    "print('fitted nondecision time is ', res.x[3])"
   ]
  },
  {
   "attachments": {},
   "cell_type": "markdown",
   "metadata": {},
   "source": [
    "###\n",
    "**Q2: 利用Metropolitan-Hasting的方法求解DDM模型参数.不能借助工具包，必须手写M-H**\n"
   ]
  },
  {
   "cell_type": "code",
   "execution_count": null,
   "metadata": {},
   "outputs": [],
   "source": [
    "# 定义一个采样分布的概率密度 (input your data, get prob as your output)\n",
    "def loglikeli(params, data):\n",
    "    '''\n",
    "    <params>:(4,) array, drift coefficient, decision boundary, initial bias, non-decision time\n",
    "    '''\n",
    "    k = params[0] # drift coefficient\n",
    "    a = params[1] # decision boundary\n",
    "    B = params[2] # initial bias (0, 1)\n",
    "    ndt = params[3] # non-decision time\n",
    "    \n",
    "    nTrial = data.shape[0] # how many trials\n",
    "    prob = np.empty(nTrial)\n",
    "    \n",
    "    for i in range(nTrial): # loop trial\n",
    "        prob[i] = ddmpdf(k, a, B, ndt, coh=data[i, 0], rt=data[i, 1], correct=data[i, 2])\n",
    "    \n",
    "    prob=0.999*prob + np.finfo(np.float32).eps # to avoid p=0\n",
    "    return np.log(prob).sum() # take log, sum\n"
   ]
  },
  {
   "cell_type": "code",
   "execution_count": null,
   "metadata": {},
   "outputs": [],
   "source": [
    "\n",
    "def metropolis_hastings(data, n_sample=10000, n_burnin=1500):\n",
    "    sample_chain = []\n",
    "    current_param = np.array([y_k, y_A, y_B, y_ndt])  # Initialize parameters\n",
    "    rt_max = data[:, 1].max()  # Maximum response time\n",
    "\n",
    "    for i in range(n_sample + n_burnin):\n",
    "        # Propose new parameters from normal distribution\n",
    "        pro_k = norm(loc=current_param[0]).rvs()\n",
    "        pro_A = norm(loc=current_param[1]).rvs()\n",
    "        pro_B = norm(loc=current_param[2]).rvs()\n",
    "        pro_ndt = norm(loc=current_param[3]).rvs()\n",
    "\n",
    "        # Ensure a and ndt are within valid ranges\n",
    "        pro_A = np.exp(pro_A) / (1 + np.exp(pro_A))\n",
    "        pro_ndt = min([np.exp(pro_ndt) / (1 + np.exp(pro_ndt)), rt_max])\n",
    "\n",
    "        proposed_param = np.array([pro_k, pro_A, pro_B,  pro_ndt])\n",
    "\n",
    "        # Calculate log-likelihoods\n",
    "        loglik_proposed = loglikeli(proposed_param, data)\n",
    "        loglik_current = loglikeli(current_param, data)\n",
    "\n",
    "        # acceptance ratio\n",
    "        acceptance_ratio = min(0, loglik_proposed - loglik_current)\n",
    "\n",
    "        # Accept or reject \n",
    "        if np.log(uniform.rvs()) <= acceptance_ratio:\n",
    "            current_param = proposed_param\n",
    "\n",
    "        # accpet only after burn-in period\n",
    "        if i >= n_burnin:\n",
    "            sample_chain.append(current_param)\n",
    "\n",
    "    return np.array(sample_chain)\n",
    "\n",
    "# Set initial parameter values\n",
    "y_k = 3\n",
    "y_B = 3\n",
    "y_A = 0.5\n",
    "y_ndt = 0.01\n",
    "\n",
    "# Call the Metropolis-Hastings algorithm\n",
    "samples = metropolis_hastings(data)\n",
    "MH_est = np.mean(samples, axis=0)"
   ]
  },
  {
   "cell_type": "code",
   "execution_count": 45,
   "metadata": {},
   "outputs": [
    {
     "name": "stdout",
     "output_type": "stream",
     "text": [
      "fitted drift coefficient is: 4.857210573405569\n",
      "fitted decision boundary is: 3.4840810438601797\n",
      "fitted initial bias is: 0.5847440494853477\n",
      "fitted nondecision time is: 0.1492099465838196\n"
     ]
    }
   ],
   "source": [
    "MH_est = np.mean(samples, axis=0)\n",
    "k = [samples[i][0] for i in range(len(samples))]\n",
    "a = [samples[i][1] for i in range(len(samples))]\n",
    "b = [samples[i][2] for i in range(len(samples))]\n",
    "n = [samples[i][3] for i in range(len(samples))]\n",
    "\n",
    "print(f'fitted drift coefficient is: {np.mean(k)}\\n'\n",
    "      f'fitted decision boundary is: {np.mean(b)}\\n'\n",
    "      f'fitted initial bias is: {np.mean(a)}\\n'\n",
    "      f'fitted nondecision time is: {np.mean(n)}')"
   ]
  },
  {
   "cell_type": "code",
   "execution_count": 46,
   "metadata": {},
   "outputs": [
    {
     "data": {
      "image/png": "[encoded data removed]",
      "text/plain": [
       "<Figure size 800x600 with 1 Axes>"
      ]
     },
     "metadata": {
      "image/png": {
       "height": 576,
       "width": 711
      }
     },
     "output_type": "display_data"
    }
   ],
   "source": [
    "# 计算 log likelihood\n",
    "MLE_res = res.x\n",
    "MH_res = MH_est\n",
    "MLE_ = [ddmpdf(res.x[0], res.x[2], res.x[1], res.x[3], coh=data[i, 0], rt=data[i, 1], correct=data[i, 2]) for i in range(data.shape[0])]\n",
    "MH_ = [ddmpdf(MH_est[0], MH_est[1], MH_est[2], MH_est[3], coh=data[i, 0], rt=data[i, 1], correct=data[i, 2]) for i in range(data.shape[0])]\n",
    "# 绘制 log likelihood 的分布\n",
    "plt.figure(figsize=(8, 6))\n",
    "plt.hist(MLE_, bins=30, color='blue', alpha=0.7)\n",
    "plt.hist(MH_, bins=30, color='red', alpha=0.7)\n",
    "plt.title('Log Likelihood Distribution')\n",
    "plt.xlabel('Log Likelihood')\n",
    "plt.ylabel('Frequency')\n",
    "plt.show()"
   ]
  },
  {
   "cell_type": "code",
   "execution_count": null,
   "metadata": {},
   "outputs": [],
   "source": [
    "seed = 1234\n",
    "env = frozen_lake(seed=seed)\n",
    "env.reset()\n",
    "fig, ax = plt.subplots(1, 1, figsize=(4, 4))\n",
    "env.render(ax)"
   ]
  },
  {
   "attachments": {},
   "cell_type": "markdown",
   "metadata": {},
   "source": [
    "###\n",
    "**Q3.1：现在有nA个action，nS个state。请先随机生成一个policy。每一行代表一个state，每一列代表一个动作.并且令inverse temperature = 5**\n",
    "\n"
   ]
  },
  {
   "cell_type": "code",
   "execution_count": null,
   "metadata": {},
   "outputs": [],
   "source": [
    "## a random policy\n",
    "seed = 1234\n",
    "rng = np.random.RandomState(seed)\n",
    "pi_rand = softmax(rng.rand(env.nS,env.nA)*5, axis=1)\n",
    "pi_rand"
   ]
  },
  {
   "attachments": {},
   "cell_type": "markdown",
   "metadata": {},
   "source": [
    "###\n",
    "**Q3.2：定义一个评估policy的函数。你需要： 1.在已知当前步的state、action和transition function的情况下，估计下一个可能state的reward和value；2.根据v_new 和 v_old，判断收敛**\n"
   ]
  },
  {
   "cell_type": "code",
   "execution_count": null,
   "metadata": {},
   "outputs": [],
   "source": [
    "\n",
    "def policy_eval(pi, V, env, theta=1e-4, gamma=.99):\n",
    "    for s in env.s_termination:\n",
    "        V[s] = 0 \n",
    "    while True:\n",
    "        delta = 0\n",
    "        for s in env.S:\n",
    "            if s not in env.s_termination:\n",
    "                v_old = V[s].copy()\n",
    "                v_new = 0\n",
    "                for a in env.A:\n",
    "                    p = env.p_s_next(s,a)\n",
    "                    for s_next in env.S:\n",
    "                        r, done = env.r(s_next)\n",
    "                        v_new +=  pi[s, a] * p[s_next]*(r+(1-done)*gamma*V[s_next])\n",
    "                V[s] = v_new\n",
    "                ## convergence\n",
    "                delta = np.max([delta, np.abs(v_old-v_new)])             \n",
    "        fig, ax = plt.subplots(1, 1, figsize=(4, 4))\n",
    "        clear_output(True)\n",
    "        env.show_v(ax, V)\n",
    "        time.sleep(1)\n",
    "        plt.show()   \n",
    "        if delta < theta:\n",
    "            break\n",
    "    return V\n",
    "        "
   ]
  },
  {
   "cell_type": "code",
   "execution_count": null,
   "metadata": {},
   "outputs": [],
   "source": [
    "V = np.zeros([env.nS])\n",
    "V = policy_eval(pi_rand, V, env)"
   ]
  },
  {
   "attachments": {},
   "cell_type": "markdown",
   "metadata": {},
   "source": [
    "###  \n",
    "**Q3.3：改进policy。**"
   ]
  },
  {
   "cell_type": "code",
   "execution_count": null,
   "metadata": {},
   "outputs": [],
   "source": [
    "## policy_improv\n",
    "def policy_improv(pi, V, env, theta=1e-4, gamma=.99):\n",
    "    pi_old = pi.copy()\n",
    "    for s in env.S:\n",
    "        # 每一次循环都要重新初始化包含所有action的 q\n",
    "        q = np.zeros([env.nA])\n",
    "        for a in env.A:\n",
    "            p = env.p_s_next(s,a)\n",
    "            for s_next in env.S:\n",
    "                r, done = env.r(s_next)\n",
    "                # q += Σ_a P(s'|s,a)*[r_t+gamma*V(s')] \n",
    "                q[a] += p[s_next]*(r+gamma*(1-done)*V[s_next])\n",
    "        pi[s] = np.eye(env.nA)[np.argmax(q)]\n",
    "    # loop until stable\n",
    "    if (np.abs(pi_old - pi) < theta).all():\n",
    "        stable = True\n",
    "    else:stable=False\n",
    "    return pi, stable   \n",
    "            "
   ]
  },
  {
   "attachments": {},
   "cell_type": "markdown",
   "metadata": {},
   "source": [
    "###\n",
    "**Q3.4：完成policy iteration。你需要：1.首先评估policy得到V(value),2.根据得到的V，pi，env来完成迭代**"
   ]
  },
  {
   "cell_type": "code",
   "execution_count": null,
   "metadata": {},
   "outputs": [],
   "source": [
    "def policy_iter(env, seed=1234):\n",
    "    rng = np.random.RandomState(seed)\n",
    "    V = rng.randn(env.nS)*0.0001\n",
    "    # initialize V 除goal为0\n",
    "    for s in env.s_termination:\n",
    "        V[s] = 0\n",
    "    # softmax处理\n",
    "    pi = softmax(rng.rand(env.nS,env.nA)*5,axis=1)\n",
    "    \n",
    "    while True:\n",
    "        V = policy_eval(pi, V, env)\n",
    "        pi, stable = policy_improv(pi, V, env)\n",
    "        # visualize \n",
    "        fig, axs = plt.subplots(1, 2, figsize=(8, 4))\n",
    "        clear_output(True)\n",
    "        ax = axs[0]\n",
    "        env.show_v(ax, V)\n",
    "        ax = axs[1]\n",
    "        env.show_pi(ax, pi)\n",
    "        time.sleep(.1)\n",
    "        plt.show()   \n",
    "        \n",
    "        if stable:break\n",
    "    return V, pi  \n",
    "    "
   ]
  },
  {
   "cell_type": "code",
   "execution_count": null,
   "metadata": {},
   "outputs": [],
   "source": [
    "V1, pi1 = policy_iter(env)"
   ]
  },
  {
   "attachments": {},
   "cell_type": "markdown",
   "metadata": {},
   "source": [
    "###\n",
    "**Q3.5：完成value iteration。**"
   ]
  },
  {
   "cell_type": "code",
   "execution_count": null,
   "metadata": {},
   "outputs": [],
   "source": [
    "def value_iter(env, seed=1234, theta=1e-4, gamma=.99):\n",
    "    \n",
    "    rng = np.random.RandomState(seed)\n",
    "    # initialize V(s), arbitrarily except V(terminal)=0\n",
    "    V = np.zeros(env.nS)\n",
    "    if s in env.s_termination:\n",
    "        V[s] = 0\n",
    "    # init policy \n",
    "    pi = softmax(rng.randn(env.nS,env.nA)*5, axis=1)    \n",
    "    # loop until converge\n",
    "    while True:\n",
    "        delta = 0\n",
    "        for s in env.S:\n",
    "            v_old = V[s].copy()\n",
    "            v_new = 0\n",
    "            for a in env.A:\n",
    "                p = env.p_s_next(s, a)\n",
    "                for s_next in env.S:\n",
    "                    r, done = env.r(s_next)\n",
    "                    v_new += p[s_next]*(r + (1-done)*gamma*V[s_next])\n",
    "            # calculate V\n",
    "            V[s] = np.max(v_new)\n",
    "            # get new policy \n",
    "\n",
    "            \n",
    "            delta = np.max([delta, np.abs(V[s] - v_old)])\n",
    "\n",
    "        if delta < theta:\n",
    "            break \n",
    "    for s in env.s_termination:\n",
    "        V[s] = 0\n",
    "    return V, pi "
   ]
  },
  {
   "attachments": {},
   "cell_type": "markdown",
   "metadata": {},
   "source": [
    "### \n",
    "**Q4.1：写一段函数，随机生成action**\n"
   ]
  },
  {
   "cell_type": "code",
   "execution_count": null,
   "metadata": {},
   "outputs": [],
   "source": [
    "def e_greedy(q, rng, env, eps):\n",
    "    a_max = np.argwhere(q==np.max(q)).flatten()\n",
    "    policy = np.sum([np.eye(env.nA)[i] for i in a_max], axis=0) / len(a_max)\n",
    "    if rng.rand() < 1-eps:\n",
    "        a = rng.choice(env.nA, p=policy)\n",
    "    else:\n",
    "        a = rng.choice(env.nA)\n",
    "    return a "
   ]
  },
  {
   "cell_type": "code",
   "execution_count": null,
   "metadata": {},
   "outputs": [],
   "source": [
    "def Q_learning(env, alpha=.1, eps=.1, gamma=.99, max_epi=2000, seed=1234, theta=1e-4):\n",
    "    # rng\n",
    "    rng = np.random.RandomState(seed)\n",
    "    # initialize Q\n",
    "    Q = np.zeros([env.nS, env.nA])\n",
    "    for _ in range(max_epi):\n",
    "        s, r, done = env.reset()\n",
    "        q_old = Q.copy()\n",
    "        G = 0\n",
    "        while True:\n",
    "            # sample At, observe Rt, St+1\n",
    "            a = e_greedy(Q[s, :], rng, env, eps)\n",
    "            # a = rng.choice(env.A, p=pi)\n",
    "            s_next, r, done = env.step(a)\n",
    "            Q_tar = r + gamma*(1-done)*(Q[s_next, :]).max()\n",
    "            Q[s, a] += alpha*(Q_tar - Q[s, a])\n",
    "            s = s_next \n",
    "            G += r\n",
    "            \n",
    "            if done:\n",
    "                break \n",
    "\n",
    "        if (np.abs(q_old - Q)<theta).all():\n",
    "            break\n",
    "    pi = np.eye(env.nA)[np.argmax(Q, axis=1)]\n",
    "    return Q, pi"
   ]
  },
  {
   "attachments": {},
   "cell_type": "markdown",
   "metadata": {},
   "source": [
    "### \n",
    "**Q4.2：补充sarsa 代码**"
   ]
  },
  {
   "cell_type": "code",
   "execution_count": null,
   "metadata": {},
   "outputs": [],
   "source": [
    "def Sarsa(env, alpha=.2, eps=.1, gamma=.99, max_epi=5000, seed=1234, theta=1e-4):\n",
    "    # rng\n",
    "    rng = np.random.RandomState(seed)\n",
    "    # initialize Q\n",
    "    Q = np.zeros([env.nS, env.nA])\n",
    "    for _ in range(max_epi):\n",
    "        G = 0\n",
    "        q_old = Q.copy()\n",
    "        s, _, done = env.reset()\n",
    "        # sample At, observe Rt, St+1\n",
    "        a = e_greedy(Q[s, :], rng, env, eps)\n",
    "        while True:\n",
    "            s_next, r, done = env.step(a)\n",
    "            a_next = e_greedy(Q[s_next, :], rng, env, eps)\n",
    "            Q_tar  = r + (1-done)*gamma*(Q[s_next, a_next])  # 根据Sarsa更新目标Q值\n",
    "            Q[s,a] += alpha*(Q_tar-Q[s,a])  # 更新Q值\n",
    "            s = s_next\n",
    "            a = a_next\n",
    "            G += r\n",
    "            if done:\n",
    "                break \n",
    "        delta = np.max(np.abs(q_old - Q))\n",
    "        if (delta < theta).all():\n",
    "            break\n",
    "    pi = np.eye(env.nA)[np.argmax(Q, axis=1)]\n",
    "    return Q, pi"
   ]
  },
  {
   "cell_type": "code",
   "execution_count": null,
   "metadata": {},
   "outputs": [],
   "source": [
    "## 可视化\n",
    "Q_sarsa, pi_sarsa = Sarsa(env)\n",
    "V3 = Q_sarsa.max(1)\n",
    "fig, axs = plt.subplots(1, 2, figsize=(8, 4))\n",
    "ax = axs[0]\n",
    "env.show_v(ax, V3)\n",
    "ax = axs[1]\n",
    "env.show_pi(ax, pi_sarsa)"
   ]
  }
 ],
 "metadata": {
  "kernelspec": {
   "display_name": "Python 3",
   "language": "python",
   "name": "python3"
  },
  "language_info": {
   "codemirror_mode": {
    "name": "ipython",
    "version": 3
   },
   "file_extension": ".py",
   "mimetype": "text/x-python",
   "name": "python",
   "nbconvert_exporter": "python",
   "pygments_lexer": "ipython3",
   "version": "3.11.3"
  },
  "orig_nbformat": 4
 },
 "nbformat": 4,
 "nbformat_minor": 2
}
