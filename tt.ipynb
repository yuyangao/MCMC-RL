{
 "cells": [
  {
   "cell_type": "code",
   "execution_count": 10,
   "metadata": {},
   "outputs": [],
   "source": [
    "from scipy.stats import norm\n",
    "import numpy as np\n",
    "import matplotlib.pyplot as plt \n",
    "\n",
    "B = 2 # upper bounds, assuming lower bounds is 0\n",
    "k = 1 # linear coeffient between drift rate and coherence\n",
    "cohs = np.array([0.032, 0.064, 0.128, 0.256, 0.52]) # choose one coefficientnp.array([0.032, 0.064, 0.128, 0.256, 0.52])\n",
    "sigma = 1\n",
    "deltaT = 0.1\n",
    "ndt = 0.1\n",
    "a = 0.5\n",
    "\n",
    "nTrial = 3000\n",
    "RT = np.zeros(nTrial)\n",
    "corrects = np.zeros(nTrial)\n",
    "\n",
    "for j in range(nTrial):\n",
    "    i = 0\n",
    "    for coh in cohs:\n",
    "        evidence = a * B\n",
    "        accumEvidence = [evidence]\n",
    "\n",
    "        driftRate = k * coh # drift rate\n",
    "        while np.abs(evidence) < B:\n",
    "            i += 1\n",
    "            evidence += norm.rvs(loc=0, scale=sigma, size=1)[0] * np.sqrt(deltaT) + driftRate * deltaT \n",
    "            accumEvidence.append(evidence)\n",
    "            if evidence > B:\n",
    "                correct = 1\n",
    "                break\n",
    "            elif evidence < 0:\n",
    "                correct = 0\n",
    "                break\n",
    "        RT[j] = len(accumEvidence) * deltaT + ndt\n",
    "        corrects[j] = correct\n",
    "\n",
    "data = np.zeros((nTrial, 3))\n",
    "data[:, 0] = np.repeat(cohs, nTrial // len(cohs))\n",
    "data[:, 1] = RT\n",
    "data[:, 2] = corrects\n",
    "\n",
    "np.savetxt('example.txt', data, delimiter='\\t')\n"
   ]
  },
  {
   "cell_type": "code",
   "execution_count": null,
   "metadata": {},
   "outputs": [],
   "source": []
  }
 ],
 "metadata": {
  "kernelspec": {
   "display_name": "Python 3",
   "language": "python",
   "name": "python3"
  },
  "language_info": {
   "codemirror_mode": {
    "name": "ipython",
    "version": 3
   },
   "file_extension": ".py",
   "mimetype": "text/x-python",
   "name": "python",
   "nbconvert_exporter": "python",
   "pygments_lexer": "ipython3",
   "version": "3.11.3"
  },
  "orig_nbformat": 4
 },
 "nbformat": 4,
 "nbformat_minor": 2
}
