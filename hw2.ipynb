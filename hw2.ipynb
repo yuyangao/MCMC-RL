{
 "cells": [
  {
   "attachments": {},
   "cell_type": "markdown",
   "metadata": {},
   "source": [
    "# 作业"
   ]
  },
  {
   "attachments": {},
   "cell_type": "markdown",
   "metadata": {},
   "source": [
    "本次作业主要涉及两种参数估计方法(MLE+MCMC)和强化学习(dynamic programming+Sarsa)"
   ]
  },
  {
   "attachments": {},
   "cell_type": "markdown",
   "metadata": {},
   "source": [
    "## Part 1 参数估计之MLE\n",
    "* 采用`exampledata.txt`的数据"
   ]
  },
  {
   "attachments": {},
   "cell_type": "markdown",
   "metadata": {},
   "source": [
    "* 请使用example.txt。一共有3000个试次, 每一行是一个试次的数据\n",
    "* 其中1-3列分别是：\n",
    "- coherence(运动序列。共5种coherence[0.032, 0.064, 0.128, 0.256, 0.52])\n",
    "- response time (总反应时长)\n",
    "- correct(1, 正确; 0, 错误)\n",
    "* example.txt的形状为(3000, 3)"
   ]
  },
  {
   "cell_type": "code",
   "execution_count": null,
   "metadata": {},
   "outputs": [],
   "source": [
    "# load  data\n",
    "import numpy as np\n",
    "\n",
    "data = np.loadtxt('example.txt')\n",
    "nTrial = data.shape[0] # how many trials\n",
    "eps = np.finfo(float).eps"
   ]
  },
  {
   "attachments": {},
   "cell_type": "markdown",
   "metadata": {},
   "source": [
    "###\n",
    "\n",
    "**Q1.1: 请写出ddm的负对数似然函数`negloglikeli`(negative log-likelihood function)**\n",
    "\n",
    "* 请利用ddm的函数`ddmpdf`\n",
    "\n",
    "\n",
    "`def ddmpdf(k, a, B, ndt, coh, correct, rt):`\n",
    "\n",
    "* 该函数接受七个参数, 其中四个是ddm的参数\n",
    "    \n",
    "  - k: drift rate\n",
    "  - a: initial bias,范围是(0,1)\n",
    "  - B: decision boundary\n",
    "  - ndt: non-decision time\n",
    "   \n",
    "* 另外三个是一个trial的数据\n",
    "  - coh: coherence\n",
    "  - correct: correct 1 or not 0\n",
    "  - rt: reaction time in secs\n"
   ]
  },
  {
   "cell_type": "code",
   "execution_count": null,
   "metadata": {},
   "outputs": [],
   "source": [
    "from ddm import ddmpdf\n",
    "import numpy as np\n",
    "eps = np.finfo(float).eps\n",
    "# define a negative log-likelihood objective function\n",
    "def negloglikeli(params, data):\n",
    "    '''\n",
    "    <params>:(4,) array, drift rate, decision boundary, initial bias, non-decision time\n",
    "    '''\n",
    "    k = params[0] # drift rate\n",
    "    B = params[1] # decision boundary\n",
    "    a = params[2] # initial bias (0, 1)\n",
    "    ndt = params[3] # non-decision time\n",
    "    \n",
    "    nTrial = data.shape[0] # trial数量\n",
    "    pp = np.empty(nTrial)\n",
    "    for i in range(nTrial): \n",
    "\n",
    "    return  "
   ]
  },
  {
   "attachments": {},
   "cell_type": "markdown",
   "metadata": {},
   "source": [
    "###\n",
    "\n",
    "**Q1.2: 利用最大似然估计(maximum likelihood estimation)的方法求解ddm模型参数k,B,a,ndt**\n",
    "\n",
    "参数k,B,a,ndt的bounds分别为((0, 20), (0, 5), (0, 1), (0, 1))\n"
   ]
  },
  {
   "cell_type": "code",
   "execution_count": null,
   "metadata": {},
   "outputs": [],
   "source": [
    "np.random.seed(1234)\n",
    "from scipy.optimize import minimize\n",
    "\n",
    "print('\\nfitted drift coefficient is ', res.x[0])\n",
    "print('fitted decision boundary is ', res.x[1])\n",
    "print('fitted initial bias is ', res.x[2])\n",
    "print('fitted nondecision time is ', res.x[3])"
   ]
  },
  {
   "attachments": {},
   "cell_type": "markdown",
   "metadata": {},
   "source": [
    "正确答案如下："
   ]
  },
  {
   "cell_type": "code",
   "execution_count": null,
   "metadata": {},
   "outputs": [],
   "source": []
  },
  {
   "attachments": {},
   "cell_type": "markdown",
   "metadata": {},
   "source": [
    "## Part 2 参数估计之MCMC"
   ]
  },
  {
   "attachments": {},
   "cell_type": "markdown",
   "metadata": {},
   "source": [
    "###\n",
    "**Q2: 利用Metropolitan-Hasting的方法估计DDM模型中的参数：drift rate(k) .不能借助工具包，必须手写M-H**\n",
    "* 请使用example.txt。\n",
    "* 将DDM中其余参数固定为： \n",
    "    - B(boundary) = 2\n",
    "    - a(initial bias) = 0.5\n",
    "    - ndt(non-decision time) = 0.1\n",
    "* (代码中已经固定randomseed，每一次结果都将一致。请勿修改)\n",
    "* hint：\n",
    "    - 提议分布建议使用正态分布。正态分布可以使用scipy.stats.norm()\n",
    "    - 从提议分布中每一次采样，起始值都设置为每一次循环初始的initial值\n",
    "    - 从提议分布中采样的结果通过exp()转换（因为drift rate始终大于零）\n",
    "    - $\\min[\\frac{f(x)}{f(y)}, 1] $ 可以被表示为 $\\min[\\log(f(x))-\\log(f(y)), 0]$"
   ]
  },
  {
   "cell_type": "code",
   "execution_count": null,
   "metadata": {},
   "outputs": [],
   "source": [
    "# 首先写好loglikehood func（不用取负值）\n",
    "import numpy as np\n",
    "from ddm import ddmpdf\n",
    "\n",
    "def loglikeli(k, data):\n",
    "    '''\n",
    "    共有四个参数。其中：\n",
    "    <k>:    drift rate\n",
    "    <B>:    decision boundary\n",
    "    <a>:    initial bias\n",
    "    <ndt>:  non-decision time\n",
    "    <data>: 输入的数据。来自example.txt\n",
    "    注意:除了k以外的剩下三个参数(B,a,ndt)均已被固定\n",
    "    '''\n",
    "    B = 2 # decision boundary\n",
    "    a = 0.5# initial bias (0, 1)\n",
    "    ndt = 0.1 # non-decision time\n",
    "    nTrial = data.shape[0] # how many trials\n",
    "    pp = np.empty(nTrial)\n",
    "    for i in range(nTrial): # loop trial\n",
    "   \n",
    "    return  # take log, sum，add negative"
   ]
  },
  {
   "cell_type": "code",
   "execution_count": null,
   "metadata": {},
   "outputs": [],
   "source": [
    "from scipy.stats import norm, uniform\n",
    "import numpy as np\n",
    "\n",
    "#proposal dist 为gamma分布.使得drift rate始终大于零\n",
    "def metropolis_hastings(data, y_k, n_sample=3000, n_burnin=1000, random_seed=1234):\n",
    "    '''\n",
    "    <data>:         需要加载的数据,example.txt\n",
    "    <y_k>:          先初始化一个k\n",
    "    <n_sample>:     需要采样的次数\n",
    "    <n_burin>:      需要被丢弃的采样数量\n",
    "    <randomseed>:   随机种子。用于重现结果\n",
    "    \n",
    "    '''\n",
    "    np.random.seed(random_seed)\n",
    "    samples = []\n",
    "\n",
    "    return samples\n",
    "\n",
    "# 设置初始参数值\n",
    "y_k = 0.1\n",
    "\n",
    "# 调用 Metropolis-Hastings 算法\n",
    "samples = metropolis_hastings(data, y_k)\n"
   ]
  },
  {
   "cell_type": "code",
   "execution_count": null,
   "metadata": {},
   "outputs": [],
   "source": [
    "import matplotlib.pyplot as plt\n",
    "plt.figure(figsize = (6,4))\n",
    "plt.hist(samples, bins=15, density=True, label='samples')\n",
    "plt.xlabel('drift rate')\n",
    "plt.xlim(0.6)\n",
    "plt.xticks([0.6,0.7,0.8,0.9,1.0,1.1])\n",
    "plt.ylabel('Density')\n",
    "plt.title(' Estimation of Samples')\n",
    "plt.show()"
   ]
  },
  {
   "attachments": {},
   "cell_type": "markdown",
   "metadata": {},
   "source": [
    "正确答案近似下图"
   ]
  },
  {
   "cell_type": "code",
   "execution_count": 7,
   "metadata": {},
   "outputs": [
    {
     "data": {
      "image/png": "[encoded data removed]",
      "text/plain": [
       "<Figure size 600x400 with 1 Axes>"
      ]
     },
     "metadata": {},
     "output_type": "display_data"
    }
   ],
   "source": []
  },
  {
   "attachments": {},
   "cell_type": "markdown",
   "metadata": {},
   "source": [
    "## Part 3 强化学习之dynamic programming"
   ]
  },
  {
   "attachments": {},
   "cell_type": "markdown",
   "metadata": {},
   "source": [
    "### \n",
    "我们接下来的游戏需要借助一个冰湖任务完成。这个游戏的规则很简单：掉进蓝色冰窟窿内即失败(游戏结束)；顺利到达goal(G)即成功(游戏结束)。\n",
    "在这个冰湖环境中，agent的动作为：\n",
    "* 0: 上\n",
    "* 1: 下\n",
    "* 2: 左\n",
    "* 3: 右\n",
    "##### 先来看看我们已经拥有的冰湖任务的环境。"
   ]
  },
  {
   "cell_type": "code",
   "execution_count": null,
   "metadata": {},
   "outputs": [],
   "source": [
    "from utils.env import frozen_lake\n",
    "import matplotlib.pyplot as plt\n",
    "\n",
    "seed = 1234\n",
    "env = frozen_lake(seed=seed)\n",
    "env.reset()\n",
    "fig, ax = plt.subplots(1, 1, figsize=(4, 4))\n",
    "env.render(ax)"
   ]
  },
  {
   "attachments": {},
   "cell_type": "markdown",
   "metadata": {},
   "source": [
    "###\n",
    "**Q3：完成value iteration。**\n",
    "完成value iteration的步骤(伪代码)：\n",
    "\n",
    "1. 输入一个初始policy $(\\pi)$\n",
    "2. 输入一个极小值 $\\theta >0$ \n",
    "3. 为除了终点的所有状态$(s)设置初始值V(s)$\n",
    "4. 循环\n",
    "    1. $ \\Delta  ← 0$\n",
    "    2. 遍历每一个状态空间 s ∈ States\n",
    "        1. $ v ← V(s)$\n",
    "        2. $ V(s) ← \\max\\limits_{a} \\sum\\limits_{s'} p(s'|s, a) * [R(s') + \\gamma * V(s')]$\n",
    "        3. $\\Delta ← \\max(\\Delta , |v - V(s)|)$\n",
    "- 直到 $\\Delta  < \\theta$，停止循环\n",
    "5. $ \\pi(s) = \\argmax\\limits_{a}\\sum\\limits_{s'} p(s'|s, a) * [R(s') + \\gamma * V(s')]$\n",
    "6. 返回 $V,\\pi$\n",
    "    \n",
    "hint：\n",
    "* 可以使用`env.r()`获取下一个状态的reward\n",
    "* 可以使用`env.p_s_next()`来获取状态转移概率\n",
    "* 可以借助`np.eye()`来找到能返回最大值的action\n",
    "\n"
   ]
  },
  {
   "cell_type": "code",
   "execution_count": null,
   "metadata": {},
   "outputs": [],
   "source": [
    "import numpy as np\n",
    "import matplotlib.pyplot as plt\n",
    "import time\n",
    "from IPython.display import clear_output\n",
    "from utils.viz import viz \n",
    "viz.get_style()\n",
    "\n",
    "def value_iter(env, seed=1234, theta=1e-4, gamma=.99, show_update=False):\n",
    "    '''\n",
    "    <env>:   冰湖环境\n",
    "    <seed>:  随机种子\n",
    "    <theta>: 极小值，用于和Δ比较，判断收敛\n",
    "    <gamma>: 折扣因子\n",
    "    <show_update>: 更新过程的展示（默认为否，我们直接看结果即可）\n",
    "    '''\n",
    "    rng = np.random.RandomState(seed)\n",
    "    # 任意初始化 V(s), 但 V(terminal)=0\n",
    "    V = rng.rand(env.nS) * 0.001\n",
    "    # except v(terminal) = 0\n",
    "    for s in env.s_termination:\n",
    "        V[s] = 0\n",
    "    # init policy \n",
    "    pi = np.zeros([env.nS, env.nA])\n",
    "    # 循环直至收敛（delta < theta）\n",
    "    while True:\n",
    "        delta = 0\n",
    "        for s in env.S:\n",
    "            v_old = V[s].copy()\n",
    "            q = np.zeros([env.nA])\n",
    "            ##-------------------------------------------##\n",
    "            ##                   ans                     ##\n",
    "            ##-------------------------------------------##\n",
    "        # 可视化 \n",
    "        if show_update:\n",
    "            _, axs = plt.subplots(1, 2, figsize=(8, 4))\n",
    "            clear_output(True)\n",
    "            ax = axs[0]\n",
    "            env.show_v(ax, V)\n",
    "            ax = axs[1]\n",
    "            env.show_pi(ax, pi)\n",
    "            time.sleep(.1)\n",
    "            plt.show()\n",
    "\n",
    "        # 判断收敛\n",
    "        if delta < theta: break \n",
    "\n",
    "    for s in env.s_termination:\n",
    "        V[s] = 0\n",
    "    return V, pi \n",
    "        "
   ]
  },
  {
   "cell_type": "code",
   "execution_count": null,
   "metadata": {},
   "outputs": [],
   "source": [
    "import matplotlib.pyplot as plt\n",
    "from utils.viz import viz \n",
    "viz.get_style()\n",
    "\n",
    "V2, pi2 = value_iter(env)\n",
    "fig, axs = plt.subplots(1, 2, figsize=(8, 4))\n",
    "ax = axs[0]\n",
    "env.show_v(ax, V2)\n",
    "ax = axs[1]\n",
    "env.show_pi(ax, pi2)\n",
    "\n",
    "plt.show()"
   ]
  },
  {
   "attachments": {},
   "cell_type": "markdown",
   "metadata": {},
   "source": [
    "正确答案近似下图"
   ]
  },
  {
   "cell_type": "code",
   "execution_count": null,
   "metadata": {},
   "outputs": [],
   "source": []
  },
  {
   "attachments": {},
   "cell_type": "markdown",
   "metadata": {},
   "source": [
    "## Part 4 强化学习中之 sarsa (TD-learning)\n",
    "课堂上我们讲的内容是Q-learning。SARSA和Q-learning都属于强化学习中的TD-learning范畴，因为它们都使用了时序差分学习(TD-learning)的思想来更新值函数。虽然它们的目标相同，但它们在更新策略上有一些不同之处。\n",
    "\n",
    "1. **目标**：\n",
    "   - Q-learning的目标是学习最优的状态-动作值函数Q，并根据该值函数选择动作。它基于下一状态下所有可能动作的最大值更新。\n",
    "   - SARSA的目标是学习最优的状态-动作值函数Q，并根据该值函数选择动作。它基于当前状态-动作对的值更新。\n",
    "\n",
    "2. **更新策略**：\n",
    "   - 在Q-learning中，Q值的更新考虑当前状态下采取的动作($a_t$),以及下一个状态下的最大价值$\\left(\\underset{a}{\\max}Q^{\\pi}{(s_{t+1},a)}\\right)$。具体地说，更新公式为：\n",
    "  \n",
    "      $Q^{\\pi}{(s_t,a_t)} = Q^{\\pi}{(s_t,a_t)} + \\alpha * \\left[r + \\gamma*\\underset{a}{\\max}Q^{\\pi}{(s_{t+1},a)}-Q^{\\pi}{(s_t,a_t)}\\right]$\n",
    "   - 在SARSA中，Q值的更新考虑了当前状态下采取的动作$(Q^{\\pi}{(s_t,a_t)})$以及在下一个状态下采取的动作$(Q^{\\pi}{(s_{t+1},a_{t+1})})$。具体地说，更新公式为：\n",
    "  \n",
    "      $Q^{\\pi}{(s_t,a_t)} = Q^{\\pi}{(s_t,a_t)} + \\alpha * \\left[r + \\gamma* Q^{\\pi}{(s_{t+1},a_{t+1})}-Q^{\\pi}{(s_t,a_t)}\\right]$\n",
    "   \n",
    "   - 其中，$(s_{t})$是当前状态，$(a_{t})$是当前动作，$(r)$是获得的奖励，$(s_{t+1})$是下一个状态，$(a_{t+1})$是下一个状态下采取的动作，$(\\alpha) $是学习率，$(\\gamma)$是折扣因子。\n",
    "\n"
   ]
  },
  {
   "attachments": {},
   "cell_type": "markdown",
   "metadata": {},
   "source": [
    "### \n",
    "**Q4：补充sarsa 代码**\n",
    "\n",
    "我们来看一下实现Sarsa的步骤：\n",
    "1. 遍历每一个episode (episode = 1 to episodes):\n",
    "    1. 初始化状态 s\n",
    "    2. 基于$Q(s, a)$，根据e-greedy policy来选择action\n",
    "    3. 循环（检测收敛）\n",
    "        1. $采取 action (a)$, $观察到 reward  (r)$  $下一个状态$ next  state $ ( s_{t+1})$\n",
    "        2. $采取下一个动作 action (a')。基于Q(s_{t+1}, a_{t+1})，根据$ e-greedy policy $来选择下一个action $\n",
    "        3. $Q(s, a) ← Q(s, a) + \\alpha * [r + \\gamma * Q(s_{t+1}, a_{t+1}) - Q(s, a)] $\n",
    "        4. $s ← s_{t+1}$    记录状态，s_next为s\n",
    "        5. $a ← a_{t+1}$    记录动作，a_next为a\n",
    "    - 直到s到达终点，停止循环\n",
    "\n",
    "2. episode loop 结束，return $Q$\n",
    "\n",
    "hint\n",
    "* episode是指训练的总次数\n",
    "*  这一步：$Q(s, a) ← Q(s, a) + \\alpha * \\left[r + \\gamma * Q(s_{t+1}, a_{t+1}) - Q(s, a)\\right]$ ，需要考虑下一个状态是否为done(终点)。如为终点，下一步$Q(s_{t+1}, a_{t+1})$不存在，写法见课堂Q-learning代码"
   ]
  },
  {
   "cell_type": "code",
   "execution_count": null,
   "metadata": {},
   "outputs": [],
   "source": [
    "import random\n",
    "import numpy as np\n",
    "seed = 1234\n",
    "rng = np.random.RandomState(seed)\n",
    "\n",
    "def e_greedy(q, rng, env, eps):\n",
    "    a_max = np.argwhere(q==np.max(q)).flatten()\n",
    "    policy = np.sum([np.eye(env.nA)[i] for i in a_max], axis=0) / len(a_max)\n",
    "    if rng.rand() < 1-eps:\n",
    "        a = rng.choice(env.nA, p=policy)\n",
    "    else:\n",
    "        a = rng.choice(env.nA)\n",
    "    return a "
   ]
  },
  {
   "cell_type": "code",
   "execution_count": null,
   "metadata": {},
   "outputs": [],
   "source": [
    "import numpy as np\n",
    "from IPython.display import clear_output\n",
    "from utils.viz import viz \n",
    "viz.get_style()\n",
    "\n",
    "def Sarsa(env, alpha=.2, eps=.1, gamma=.99, max_epi=5000, seed=1234, theta=1e-4):\n",
    "    '''\n",
    "    <env>:当前所属冰湖环境\n",
    "    <alpha>:     学习率\n",
    "    <eps>:       一个极小值,用于随机性结果判断\n",
    "    <gamma>:     折扣因子\n",
    "    <max_epi>:   最大训练次数\n",
    "    <seed>:      随机种子,确保每次结果可重现\n",
    "    <theta>:     极小值，用于和Δ比较，判断收敛\n",
    "    '''\n",
    "    rng = np.random.RandomState(seed)\n",
    "    # initialize Q\n",
    "    Q = np.zeros([env.nS, env.nA])\n",
    "    for _ in range(max_epi):\n",
    "        G = 0\n",
    "        q_old = Q.copy()\n",
    "        s, _, done = env.reset()\n",
    "        # 采样At, 观察到 Rt和 St+1\n",
    "        a = e_greedy(Q[s, :], rng, env, eps)\n",
    "        while True:\n",
    "            ##-------------------------------------------##\n",
    "            ##                   ans                     ##\n",
    "            ##-------------------------------------------##\n",
    "            if done:\n",
    "                break \n",
    "            ##-------------------------------------------##\n",
    "            ##                   ans                     ##\n",
    "            ##-------------------------------------------##            #计算delta值\n",
    "        if (delta < theta).all():\n",
    "            break\n",
    "    pi = np.eye(env.nA)[np.argmax(Q, axis=1)]\n",
    "    return Q, pi"
   ]
  },
  {
   "cell_type": "code",
   "execution_count": null,
   "metadata": {},
   "outputs": [],
   "source": [
    "## 可视化\n",
    "import numpy as np\n",
    "import matplotlib.pyplot as plt\n",
    "import time\n",
    "from IPython.display import clear_output\n",
    "from utils.viz import viz \n",
    "viz.get_style()\n",
    "\n",
    "Q_sarsa, pi_sarsa = Sarsa(env)\n",
    "V3 = Q_sarsa.max(1)\n",
    "fig, axs = plt.subplots(1, 2, figsize=(8, 4))\n",
    "ax = axs[0]\n",
    "env.show_v(ax, V3)\n",
    "ax = axs[1]\n",
    "env.show_pi(ax, pi_sarsa)\n",
    "plt.show()"
   ]
  },
  {
   "attachments": {},
   "cell_type": "markdown",
   "metadata": {},
   "source": [
    "正确答案近似下图"
   ]
  },
  {
   "cell_type": "code",
   "execution_count": null,
   "metadata": {},
   "outputs": [],
   "source": []
  },
  {
   "cell_type": "code",
   "execution_count": null,
   "metadata": {},
   "outputs": [],
   "source": []
  }
 ],
 "metadata": {
  "kernelspec": {
   "display_name": "Python 3",
   "language": "python",
   "name": "python3"
  },
  "language_info": {
   "codemirror_mode": {
    "name": "ipython",
    "version": 3
   },
   "file_extension": ".py",
   "mimetype": "text/x-python",
   "name": "python",
   "nbconvert_exporter": "python",
   "pygments_lexer": "ipython3",
   "version": "3.11.3"
  },
  "orig_nbformat": 4
 },
 "nbformat": 4,
 "nbformat_minor": 2
}
